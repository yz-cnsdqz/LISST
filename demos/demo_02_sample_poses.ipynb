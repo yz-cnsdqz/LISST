{
 "cells": [
  {
   "cell_type": "markdown",
   "metadata": {},
   "source": [
    "# DEMO 2 \n",
    "## Draw Random Body Poses from the Learned Pose Prior Distributions\n",
    "\n",
    "Provided a body in the canonical space, we draw random samples from the pose prior, and then pose the body via the differentiable forward kinematics.\n",
    "\n",
    "Note:\n",
    "- the `LISST` package should be pre-installed.\n",
    "- reading `demo1` first is highly recommended."
   ]
  },
  {
   "cell_type": "code",
   "execution_count": 1,
   "metadata": {},
   "outputs": [],
   "source": [
    "# load necessary modules\n",
    "import os, sys, glob\n",
    "import numpy as np\n",
    "import torch\n",
    "from lisst.models.baseops import RotConverter\n",
    "from lisst.utils.config_creator import ConfigLoader\n",
    "from lisst.models.body import LISSTCore\n",
    "from lisst.models.body import LISSTPoser\n",
    "\n",
    "DEVICE=torch.device('cuda' if torch.cuda.is_available() else 'cpu')\n"
   ]
  },
  {
   "cell_type": "markdown",
   "metadata": {},
   "source": [
    "## The LISST body and pose configurations\n",
    "\n",
    "### Recap the body shape model\n",
    "As introduced in *Demo1*, there are three body shape configures:\n",
    "- `LISST_SHAPER_v0`: has the same skeleton topology with the CMU skeleton\n",
    "- `LISST_SHAPER_v1`: additionally add the nose joint to better represent the head rotation. See documents.\n",
    "- `LISST_SHAPER_v2`: additionally add the nose and the heels.\n",
    "\n",
    "Here we use `LISST_SHAPER_v2` as an example.\n",
    "\n",
    "### The body posers\n",
    "- The body poser learns the distribution of joint rotations in terms of the 6D continuous representation [Zhou et al, CVPR'19].\n",
    "- The body is just posed in the body coordinate system, without global transformation.\n",
    "- All rotations are w.r.t. the pelvis, instead of their parents.\n",
    "\n",
    "The poser architectures:\n",
    "- `LISST_POSER_v0`: MLP-based\n",
    "\n",
    "However, the pose priors are only learned with the CMU mocap skeleton. The nose and heel joints are not included. Instead, the nose joint has the same transformation with the head, and the heel joints have the same transformations with the feet, respectively, because they are welded to their parents."
   ]
  },
  {
   "cell_type": "code",
   "execution_count": 2,
   "metadata": {},
   "outputs": [
    {
     "name": "stdout",
     "output_type": "stream",
     "text": [
      "-- successfully loaded: /home/yzhang/workspaces/LISST-dev/results/lisst/LISST_SHAPER_v2/checkpoints/epoch-000.ckp\n",
      "-- successfully loaded: /home/yzhang/workspaces/LISST-dev/results/lisst/LISST_POSER_v1/checkpoints/epoch-500.ckp\n"
     ]
    }
   ],
   "source": [
    "shaper_config_name = 'LISST_SHAPER_v2'\n",
    "poser_config_name = 'LISST_POSER_v0'\n",
    "\n",
    "\n",
    "# create shaper and load checkpoint\n",
    "shaper_config = ConfigLoader('/home/yzhang/workspaces/LISST-dev/lisst/cfg/{}.yml'.format(shaper_config_name))\n",
    "shaper = LISSTCore(shaper_config.modelconfig)\n",
    "shaper.eval()\n",
    "shaper.to(DEVICE)\n",
    "## load checkpoint\n",
    "shaper_ckpt = '/home/yzhang/workspaces/LISST-dev/results/lisst/{}/checkpoints/epoch-000.ckp'.format(shaper_config_name)\n",
    "shaper.load(shaper_ckpt)\n",
    "\n",
    "# create poser and load checkpoint\n",
    "poser_config = ConfigLoader('/home/yzhang/workspaces/LISST-dev/lisst/cfg/{}.yml'.format(poser_config_name))\n",
    "poser = LISSTPoser(poser_config.modelconfig)\n",
    "poser.eval()\n",
    "poser.to(DEVICE)\n",
    "## load checkpoint\n",
    "poser_ckpt = '/home/yzhang/workspaces/LISST-dev/results/lisst/{}/checkpoints/epoch-500.ckp'.format(poser_config_name)\n",
    "poser.load(poser_ckpt)\n",
    "\n"
   ]
  },
  {
   "cell_type": "markdown",
   "metadata": {},
   "source": [
    "## sample random poses of a specific body\n",
    "\n",
    "Rather than using an encapsulated function, here we show the details of implementations.\n"
   ]
  },
  {
   "cell_type": "code",
   "execution_count": 3,
   "metadata": {},
   "outputs": [],
   "source": [
    "n_poses = 10\n",
    "n_bodies = 2\n",
    "\n",
    "# draw a random body from the shape PCA space\n",
    "zs = torch.zeros(n_bodies,shaper.num_kpts).to(DEVICE)\n",
    "zs[:,:15] = 50*torch.randn(n_bodies, 15) # the first 15 pcs are considered\n",
    "bone_length = shaper.decode(zs).repeat(n_poses,1)\n",
    "\n",
    "# generate body poses\n",
    "nj_poser = 31 # the poser only learns poses of the 31 joints in the CMU mocap data.\n",
    "zp = torch.randn(n_bodies*n_poses, nj_poser, poser.z_dim).to(DEVICE) #[b,J,d]\n",
    "poses_rotcont = poser.decode(zp).reshape(n_bodies*n_poses, -1)\n",
    "poses_rotcont_reshape = poses_rotcont.reshape(-1,nj_poser, 6)\n",
    "## add additional body parts if additional bones are considered\n",
    "poses_rotcont_reshape = poser.add_additional_bones(poses_rotcont_reshape, shaper.joint_names,\n",
    "                                            new_joints=shaper.get_new_joints())\n",
    "## change 6D representation to rotation matrix\n",
    "poses_rotcont_reshape = poses_rotcont_reshape.reshape(n_bodies*n_poses*shaper.num_kpts, 6)\n",
    "poses_rotmat = RotConverter.cont2rotmat(poses_rotcont_reshape).reshape(n_bodies*n_poses, shaper.num_kpts, 3,3)\n",
    "\n",
    "# forward kinematics\n",
    "x_root = torch.zeros(n_bodies*n_poses, 1,3).to(DEVICE)\n",
    "J_locs_fk = shaper.forward_kinematics(x_root, bone_length,poses_rotmat)\n",
    "J_locs_fk = J_locs_fk.contiguous().view(n_bodies, n_poses, -1, 3).detach().cpu().numpy()\n"
   ]
  },
  {
   "cell_type": "code",
   "execution_count": 8,
   "metadata": {},
   "outputs": [],
   "source": [
    "# visualization\n",
    "# J_locs_fk has [n_bodies, n_poses, n_joints, 3]\n",
    "import open3d as o3d\n",
    "pcd = o3d.geometry.PointCloud()\n",
    "pcd.points = o3d.utility.Vector3dVector(J_locs_fk[0,8])\n",
    "pcd.paint_uniform_color([0, 0, 0])\n",
    "coord = o3d.geometry.TriangleMesh.create_coordinate_frame(size=0.25)\n",
    "o3d.visualization.draw_geometries([pcd, coord])\n",
    "\n"
   ]
  }
 ],
 "metadata": {
  "kernelspec": {
   "display_name": "Python 3 (ipykernel)",
   "language": "python",
   "name": "python3"
  },
  "language_info": {
   "codemirror_mode": {
    "name": "ipython",
    "version": 3
   },
   "file_extension": ".py",
   "mimetype": "text/x-python",
   "name": "python",
   "nbconvert_exporter": "python",
   "pygments_lexer": "ipython3",
   "version": "3.8.10"
  },
  "vscode": {
   "interpreter": {
    "hash": "2dd9762ace2b6f608549a68e80534bb9ab33072e44f40442800f5ec77567cc76"
   }
  }
 },
 "nbformat": 4,
 "nbformat_minor": 2
}
