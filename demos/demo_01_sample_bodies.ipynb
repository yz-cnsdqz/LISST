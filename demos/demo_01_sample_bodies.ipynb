{
 "cells": [
  {
   "cell_type": "markdown",
   "metadata": {},
   "source": [
    "# DEMO 1\n",
    "## Draw Random Body Shapes from the Learned PCA Space\n",
    "\n",
    "In this tutorial, we will introduce the LISST body model shape space, and how to draw random **bone lengths** from the learned PCA space.\n",
    "\n",
    "Note that the `LISST` package should be pre-installed."
   ]
  },
  {
   "cell_type": "code",
   "execution_count": 1,
   "metadata": {},
   "outputs": [],
   "source": [
    "# load necessary modules\n",
    "import os, sys, glob\n",
    "import numpy as np\n",
    "import torch\n",
    "from lisst.utils.config_creator import ConfigLoader\n",
    "from lisst.models.body import LISSTCore\n",
    "\n",
    "DEVICE=torch.device('cuda' if torch.cuda.is_available() else 'cpu')\n"
   ]
  },
  {
   "cell_type": "markdown",
   "metadata": {},
   "source": [
    "## The LISST body configurations\n",
    "\n",
    "To this end, there are three configurations:\n",
    "- `LISST_SHAPER_v0`: has the same skeleton topology with the CMU skeleton\n",
    "- `LISST_SHAPER_v1`: additionally add the nose joint to better represent the head rotation. See documents.\n",
    "- `LISST_SHAPER_v2`: additionally add the nose and the heels.\n"
   ]
  },
  {
   "cell_type": "code",
   "execution_count": 11,
   "metadata": {},
   "outputs": [
    {
     "name": "stdout",
     "output_type": "stream",
     "text": [
      "-- successfully loaded: /home/yzhang/workspaces/LISST-dev/results/lisst/LISST_SHAPER_v2/checkpoints/epoch-000.ckp\n",
      "-- num_joints = 34\n",
      "-- joint_names = ['root', 'lhipjoint', 'lfemur', 'ltibia', 'lfoot', 'ltoes', 'rhipjoint', 'rfemur', 'rtibia', 'rfoot', 'rtoes', 'lowerback', 'upperback', 'thorax', 'lowerneck', 'upperneck', 'head', 'lclavicle', 'lhumerus', 'lradius', 'lwrist', 'lhand', 'lfingers', 'lthumb', 'rclavicle', 'rhumerus', 'rradius', 'rwrist', 'rhand', 'rfingers', 'rthumb', 'nose', 'lheel', 'rheel']\n",
      "-- children_table = \\{ parent_joint: [children_joint]  \\} \n",
      "{'root': ['lhipjoint', 'rhipjoint', 'lowerback'], 'lhipjoint': ['lfemur'], 'lfemur': ['ltibia'], 'ltibia': ['lfoot', 'lheel'], 'lfoot': ['ltoes'], 'ltoes': [], 'rhipjoint': ['rfemur'], 'rfemur': ['rtibia'], 'rtibia': ['rfoot', 'rheel'], 'rfoot': ['rtoes'], 'rtoes': [], 'lowerback': ['upperback'], 'upperback': ['thorax'], 'thorax': ['lowerneck', 'lclavicle', 'rclavicle'], 'lowerneck': ['upperneck'], 'upperneck': ['head'], 'head': ['nose'], 'lclavicle': ['lhumerus'], 'lhumerus': ['lradius'], 'lradius': ['lwrist'], 'lwrist': ['lhand', 'lthumb'], 'lhand': ['lfingers'], 'lfingers': [], 'lthumb': [], 'rclavicle': ['rhumerus'], 'rhumerus': ['rradius'], 'rradius': ['rwrist'], 'rwrist': ['rhand', 'rthumb'], 'rhand': ['rfingers'], 'rfingers': [], 'rthumb': [], 'nose': [], 'lheel': [], 'rheel': []}\n"
     ]
    }
   ],
   "source": [
    "modelcfg = 'LISST_SHAPER_v2' # specify the model configuration\n",
    "\n",
    "shaper_config_0 = ConfigLoader('/home/yzhang/workspaces/LISST-dev/lisst/cfg/{}.yml'.format(modelcfg))\n",
    "shaper = LISSTCore(shaper_config_0.modelconfig)\n",
    "shaper.eval()\n",
    "shaper.to(DEVICE)\n",
    "## load checkpoint\n",
    "shaper_ckpt_0 = '/home/yzhang/workspaces/LISST-dev/results/lisst/{}/checkpoints/epoch-000.ckp'.format(modelcfg)\n",
    "shaper.load(shaper_ckpt_0)\n",
    "\n",
    "\n",
    "# print info of the loaded LISST model\n",
    "nj = shaper.num_kpts\n",
    "jnames = shaper.joint_names\n",
    "children_table = shaper.children_table\n",
    "\n",
    "print('-- num_joints = {:d}'.format(nj))\n",
    "print('-- joint_names = {}'.format(jnames))\n",
    "print('-- children_table = \\{ parent_joint: [children_joint]  \\} ')\n",
    "print(children_table)\n"
   ]
  },
  {
   "cell_type": "markdown",
   "metadata": {},
   "source": [
    "## sample random body shapes and visualize\n",
    "Here we draw random numbers along the principle component, and then visaulize the skeleton with the body coordinate.\n",
    "Note that the body is at the rest pose without global transformation. Namely, in the `canonical configuration`, the body rest pose is starish, and has the coordinate located on the pelvis.\n"
   ]
  },
  {
   "cell_type": "code",
   "execution_count": 12,
   "metadata": {},
   "outputs": [],
   "source": [
    "# draw samaples on the 0-th (with largest eigenval) principle component, we draw 16 samples\n",
    "jts = shaper.random_skeleton(pc=0, n_samples=16, device=DEVICE) # returns [N, J, 3]\n",
    "jts = jts.detach().cpu().numpy()"
   ]
  },
  {
   "cell_type": "code",
   "execution_count": 14,
   "metadata": {},
   "outputs": [],
   "source": [
    "# visualization\n",
    "import open3d as o3d\n",
    "pcd = o3d.geometry.PointCloud()\n",
    "pcd.points = o3d.utility.Vector3dVector(jts[0])\n",
    "coord = o3d.geometry.TriangleMesh.create_coordinate_frame(size=0.25)\n",
    "o3d.visualization.draw_geometries([pcd, coord])\n"
   ]
  }
 ],
 "metadata": {
  "kernelspec": {
   "display_name": "Python 3 (ipykernel)",
   "language": "python",
   "name": "python3"
  },
  "language_info": {
   "codemirror_mode": {
    "name": "ipython",
    "version": 3
   },
   "file_extension": ".py",
   "mimetype": "text/x-python",
   "name": "python",
   "nbconvert_exporter": "python",
   "pygments_lexer": "ipython3",
   "version": "3.8.10"
  },
  "vscode": {
   "interpreter": {
    "hash": "2dd9762ace2b6f608549a68e80534bb9ab33072e44f40442800f5ec77567cc76"
   }
  }
 },
 "nbformat": 4,
 "nbformat_minor": 2
}
